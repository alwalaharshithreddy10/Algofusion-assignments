{
 "cells": [
  {
   "cell_type": "code",
   "execution_count": 1,
   "id": "f077e2ad",
   "metadata": {},
   "outputs": [
    {
     "name": "stdout",
     "output_type": "stream",
     "text": [
      "10\n"
     ]
    }
   ],
   "source": [
    "# 1. max()\n",
    "list1 = [3, 1, 2, 4, 9, 10]\n",
    "maximum = max(list1) \n",
    "print(maximum)\n"
   ]
  },
  {
   "cell_type": "code",
   "execution_count": 5,
   "id": "4bddaa63",
   "metadata": {},
   "outputs": [
    {
     "name": "stdout",
     "output_type": "stream",
     "text": [
      "0\n"
     ]
    }
   ],
   "source": [
    "# 2. min()\n",
    "list1 = [3, 1, 2, 4, 9, 10, 0]\n",
    "minimum = min(list1)\n",
    "print(minimum) \n",
    "\n"
   ]
  },
  {
   "cell_type": "code",
   "execution_count": 6,
   "id": "2555d815",
   "metadata": {},
   "outputs": [
    {
     "name": "stdout",
     "output_type": "stream",
     "text": [
      "[0, 1, 2, 3, 5, 6, 8, 9]\n"
     ]
    }
   ],
   "source": [
    "# 3. sort()\n",
    "list1 = [3, 1, 2, 5, 8, 9, 6, 0]\n",
    "list1.sort()\n",
    "print(list1) \n"
   ]
  },
  {
   "cell_type": "code",
   "execution_count": 8,
   "id": "a8828075",
   "metadata": {},
   "outputs": [
    {
     "name": "stdout",
     "output_type": "stream",
     "text": [
      "[9, 8, 7, 5, 3, 2, 1]\n"
     ]
    }
   ],
   "source": [
    "# 4. reverse()\n",
    "list1 = [1, 2, 3, 5, 7, 8, 9]\n",
    "list1.reverse()\n",
    "print(list1)  \n"
   ]
  },
  {
   "cell_type": "code",
   "execution_count": 10,
   "id": "b0319694",
   "metadata": {},
   "outputs": [
    {
     "name": "stdout",
     "output_type": "stream",
     "text": [
      "[1, 3, 2, 4, 5, 6]\n"
     ]
    }
   ],
   "source": [
    "# 5. remove()\n",
    "list1 = [1, 2, 3, 2, 4, 5, 6]\n",
    "list1.remove(2)\n",
    "print(list1) # The remove() method removes the first occurrence of a specified element from the list. \n"
   ]
  },
  {
   "cell_type": "code",
   "execution_count": 12,
   "id": "d0710fcd",
   "metadata": {},
   "outputs": [
    {
     "name": "stdout",
     "output_type": "stream",
     "text": [
      "3\n",
      "[1, 2, 4, 5, 6, 7]\n"
     ]
    }
   ],
   "source": [
    "# 6. pop()\n",
    "list1 = [1, 2, 3, 4, 5, 6, 7]\n",
    "element = list1.pop(2)\n",
    "print(element)  \n",
    "print(list1)  \n",
    " #The pop() method removes and returns the element at the specified index, or the last element if no index is provided."
   ]
  },
  {
   "cell_type": "code",
   "execution_count": 13,
   "id": "e329a419",
   "metadata": {},
   "outputs": [
    {
     "name": "stdout",
     "output_type": "stream",
     "text": [
      "[1, 4, 2, 3]\n"
     ]
    }
   ],
   "source": [
    "# 7. insert()\n",
    "list1 = [1, 2, 3]\n",
    "list1.insert(1, 4)\n",
    "print(list1)  # The insert() method inserts an element at the specified index in the list. \n"
   ]
  },
  {
   "cell_type": "code",
   "execution_count": 15,
   "id": "b6ddb5d3",
   "metadata": {},
   "outputs": [
    {
     "name": "stdout",
     "output_type": "stream",
     "text": [
      "3\n"
     ]
    }
   ],
   "source": [
    "# 8. index()\n",
    "list1 = [1, 2, 3, 4, 5]\n",
    "index = list1.index(4)\n",
    "print(index)  # The index() method returns the index of the first occurrence of a specified element in the list.\n"
   ]
  },
  {
   "cell_type": "code",
   "execution_count": 16,
   "id": "83bb7ae4",
   "metadata": {},
   "outputs": [
    {
     "name": "stdout",
     "output_type": "stream",
     "text": [
      "[1, 2, 3, 4, 5]\n"
     ]
    }
   ],
   "source": [
    "# 9. extend()\n",
    "list1 = [1, 2, 3]\n",
    "list2 = [4, 5]\n",
    "list1.extend(list2)\n",
    "print(list1) # The extend() method extends the list by apxpending elements from another list. \n"
   ]
  },
  {
   "cell_type": "code",
   "execution_count": 18,
   "id": "7600bf5c",
   "metadata": {},
   "outputs": [
    {
     "name": "stdout",
     "output_type": "stream",
     "text": [
      "3\n"
     ]
    }
   ],
   "source": [
    "# 10. count()\n",
    "list1 = [2, 5, 9, 2, 1, 2, 3, 1, 1]\n",
    "count = list1.count(2)\n",
    "print(count)  # The count() method returns the number of occurrences of a specified element in the list. \n"
   ]
  },
  {
   "cell_type": "code",
   "execution_count": 19,
   "id": "57211695",
   "metadata": {},
   "outputs": [
    {
     "name": "stdout",
     "output_type": "stream",
     "text": [
      "[]\n"
     ]
    }
   ],
   "source": [
    "# 11. clear()\n",
    "list1 = [1, 2, 3]\n",
    "list1.clear()\n",
    "print(list1)  # The clear() method removes all elements from the list.  \n"
   ]
  },
  {
   "cell_type": "code",
   "execution_count": 21,
   "id": "1368d0e0",
   "metadata": {},
   "outputs": [
    {
     "name": "stdout",
     "output_type": "stream",
     "text": [
      "[1, 2, 3]\n"
     ]
    }
   ],
   "source": [
    "# 12. copy()\n",
    "list1 = [1, 2, 3]\n",
    "list2 = list1.copy()\n",
    "print(list2)  # The copy() method creates a copy of the list.\n"
   ]
  },
  {
   "cell_type": "code",
   "execution_count": 22,
   "id": "ee71f286",
   "metadata": {},
   "outputs": [
    {
     "name": "stdout",
     "output_type": "stream",
     "text": [
      "[1, 2, 3, 5, 6, 8, 100]\n"
     ]
    }
   ],
   "source": [
    "# 13. append()\n",
    "list1 = [1, 2, 3, 5, 6, 8]\n",
    "list1.append(100)\n",
    "print(list1)  # The append() method adds an element to the end of the list.\n"
   ]
  },
  {
   "cell_type": "code",
   "execution_count": null,
   "id": "0f69bec0",
   "metadata": {},
   "outputs": [],
   "source": []
  }
 ],
 "metadata": {
  "kernelspec": {
   "display_name": "Python 3 (ipykernel)",
   "language": "python",
   "name": "python3"
  },
  "language_info": {
   "codemirror_mode": {
    "name": "ipython",
    "version": 3
   },
   "file_extension": ".py",
   "mimetype": "text/x-python",
   "name": "python",
   "nbconvert_exporter": "python",
   "pygments_lexer": "ipython3",
   "version": "3.10.9"
  }
 },
 "nbformat": 4,
 "nbformat_minor": 5
}
