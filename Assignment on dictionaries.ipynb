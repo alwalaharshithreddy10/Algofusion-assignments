{
 "cells": [
  {
   "cell_type": "code",
   "execution_count": 18,
   "id": "81ae2128",
   "metadata": {},
   "outputs": [
    {
     "name": "stdout",
     "output_type": "stream",
     "text": [
      "2\n"
     ]
    }
   ],
   "source": [
    "# 1. len()\n",
    "dict1 = {\"occupation\": \"Software Engineer\",\"favorite_color\": \"blue\"}\n",
    "length = len(dict1)\n",
    "print(length)  # The len() function returns the number of key-value pairs in the dictionary\n"
   ]
  },
  {
   "cell_type": "code",
   "execution_count": 19,
   "id": "2dec65a6",
   "metadata": {},
   "outputs": [
    {
     "name": "stdout",
     "output_type": "stream",
     "text": [
      "{'occupation': 'Software Engineer'}\n"
     ]
    }
   ],
   "source": [
    "# 2. del\n",
    "dict1 = {\"occupation\": \"Software Engineer\",\"favorite_color\": \"blue\"}\n",
    "del dict1['favorite_color']\n",
    "print(dict1) # The del statement removes a key-value pair from the dictionary.\n"
   ]
  },
  {
   "cell_type": "code",
   "execution_count": 20,
   "id": "fbdf1e17",
   "metadata": {},
   "outputs": [
    {
     "name": "stdout",
     "output_type": "stream",
     "text": [
      "{'occupation': 'Software Engineer', 'favorite_color': 'blue', 'country': 'india'}\n"
     ]
    }
   ],
   "source": [
    "# 3. update()\n",
    "dict1 = {\"occupation\": \"Software Engineer\",\"favorite_color\": \"blue\"}\n",
    "dict1.update({'country': 'india'})\n",
    "print(dict1)  # The update() method updates the dictionary with key-value pairs from another dictionary or an iterable of key-value pairs."
   ]
  },
  {
   "cell_type": "code",
   "execution_count": 21,
   "id": "36160c29",
   "metadata": {},
   "outputs": [
    {
     "name": "stdout",
     "output_type": "stream",
     "text": [
      "('favorite_color', 'blue')\n",
      "{'occupation': 'Software Engineer'}\n"
     ]
    }
   ],
   "source": [
    "# 4. popitem()\n",
    "dict1 = {\"occupation\": \"Software Engineer\",\"favorite_color\": \"blue\"}\n",
    "item = dict1.popitem()\n",
    "print(item) \n",
    "print(dict1) # The popitem() method removes and returns the last inserted key-value pair as a tuple.\n"
   ]
  },
  {
   "cell_type": "code",
   "execution_count": 22,
   "id": "8e2bc859",
   "metadata": {},
   "outputs": [
    {
     "name": "stdout",
     "output_type": "stream",
     "text": [
      "blue\n",
      "{'occupation': 'Software Engineer'}\n"
     ]
    }
   ],
   "source": [
    "# 5. pop()\n",
    "dict1 = {\"occupation\": \"Software Engineer\",\"favorite_color\": \"blue\"}\n",
    "name = dict1.pop('favorite_color')\n",
    "print(name)\n",
    "print(dict1) # The pop() method removes and returns the value for a given key in the dictionary.\n"
   ]
  },
  {
   "cell_type": "code",
   "execution_count": 23,
   "id": "f7cb4255",
   "metadata": {},
   "outputs": [
    {
     "name": "stdout",
     "output_type": "stream",
     "text": [
      "dict_values(['Software Engineer', 'blue'])\n"
     ]
    }
   ],
   "source": [
    "# 6. values()\n",
    "dict1 = {\"occupation\": \"Software Engineer\",\"favorite_color\": \"blue\"}\n",
    "values = dict1.values()\n",
    "print(values)  # The values() method returns a view object that contains the values of the dictionary. \n"
   ]
  },
  {
   "cell_type": "code",
   "execution_count": 24,
   "id": "19efdd7a",
   "metadata": {},
   "outputs": [
    {
     "name": "stdout",
     "output_type": "stream",
     "text": [
      "dict_keys(['occupation', 'favorite_color'])\n"
     ]
    }
   ],
   "source": [
    "# 7. keys()\n",
    "dict1 = {\"occupation\": \"Software Engineer\",\"favorite_color\": \"blue\"}\n",
    "keys = dict1.keys()\n",
    "print(keys)  # The keys() method returns a view object that contains the keys of the dictionary.\n"
   ]
  },
  {
   "cell_type": "code",
   "execution_count": 25,
   "id": "42277459",
   "metadata": {},
   "outputs": [
    {
     "name": "stdout",
     "output_type": "stream",
     "text": [
      "dict_values(['Software Engineer', 'blue'])\n"
     ]
    }
   ],
   "source": [
    "# 8.  items()\n",
    "dict1 = {\"occupation\": \"Software Engineer\",\"favorite_color\": \"blue\"}\n",
    "keys = dict1.values()\n",
    "print(keys)   # The items() method returns the key-value pairs of the dictionary as tuples.\n"
   ]
  },
  {
   "cell_type": "code",
   "execution_count": 26,
   "id": "908fea16",
   "metadata": {},
   "outputs": [
    {
     "name": "stdout",
     "output_type": "stream",
     "text": [
      "Software Engineer\n",
      "blue\n"
     ]
    }
   ],
   "source": [
    "# 9. get()\n",
    "dict1 = {\"occupation\": \"Software Engineer\",\"favorite_color\": \"blue\"}\n",
    "occupation = dict1.get('occupation')\n",
    "favoriteColor = dict1.get('favorite_color')\n",
    "print(occupation) \n",
    "print(favoriteColor) # The get() method returns the value for a given key in the dictionary.\n"
   ]
  },
  {
   "cell_type": "code",
   "execution_count": 27,
   "id": "84b6c5d6",
   "metadata": {},
   "outputs": [
    {
     "name": "stdout",
     "output_type": "stream",
     "text": [
      "{'occupation': 'Software Engineer', 'favorite_color': 'blue'}\n"
     ]
    }
   ],
   "source": [
    "# 10. copy()\n",
    "dict1 = {\"occupation\": \"Software Engineer\",\"favorite_color\": \"blue\"}\n",
    "dict2 = dict1.copy()\n",
    "print(dict2)  \n"
   ]
  },
  {
   "cell_type": "code",
   "execution_count": 28,
   "id": "da6fdbe9",
   "metadata": {},
   "outputs": [
    {
     "name": "stdout",
     "output_type": "stream",
     "text": [
      "{}\n"
     ]
    }
   ],
   "source": [
    "# 11. clear()\n",
    "dict1 = {\"occupation\": \"Software Engineer\",\"favorite_color\": \"blue\"}\n",
    "dict1.clear()\n",
    "print(dict1) # The clear() method removes all key-value pairs from the dictionary. "
   ]
  },
  {
   "cell_type": "code",
   "execution_count": null,
   "id": "0db64fc9",
   "metadata": {},
   "outputs": [],
   "source": []
  },
  {
   "cell_type": "code",
   "execution_count": null,
   "id": "47eea482",
   "metadata": {},
   "outputs": [],
   "source": []
  }
 ],
 "metadata": {
  "kernelspec": {
   "display_name": "Python 3 (ipykernel)",
   "language": "python",
   "name": "python3"
  },
  "language_info": {
   "codemirror_mode": {
    "name": "ipython",
    "version": 3
   },
   "file_extension": ".py",
   "mimetype": "text/x-python",
   "name": "python",
   "nbconvert_exporter": "python",
   "pygments_lexer": "ipython3",
   "version": "3.10.9"
  }
 },
 "nbformat": 4,
 "nbformat_minor": 5
}
